{
 "cells": [
  {
   "cell_type": "markdown",
   "metadata": {},
   "source": [
    "# More Plots with Pandas"
   ]
  },
  {
   "cell_type": "markdown",
   "metadata": {},
   "source": [
    "## Box plots\n",
    "Now, let's try to generate a boxplot summarizing the GDP across several years for the Oceanic countries, like below:\n",
    "\n",
    "<img src=\"fig/Oceania_Boxplot.png\">\n",
    "\n",
    "To do this, let's use the [`boxplot`](https://pandas.pydata.org/pandas-docs/stable/reference/api/pandas.DataFrame.boxplot.html) command from pandas."
   ]
  },
  {
   "cell_type": "code",
   "execution_count": null,
   "metadata": {},
   "outputs": [],
   "source": [
    "# Attempt 1\n",
    "\n",
    "%matplotlib inline\n",
    "import matplotlib.pyplot as plt\n",
    "import pandas as pd\n",
    "data = pd.read_csv('data/gapminder_gdp_oceania.csv', index_col = 'country')\n",
    "\n",
    "# FILL IN THIS LINE HERE\n",
    "pass"
   ]
  },
  {
   "cell_type": "markdown",
   "metadata": {},
   "source": [
    "### Understanding what .T Does\n",
    "\n",
    "As we can see, `boxplot` (along with all of Panda's automated plotting routines), automatically groups the data by columns, not by the rows. So how can we go ahead and either get `boxplot` to look at rows, or perhaps switch the rows and columns?\n",
    "\n",
    "This is where `.T`, otherwise known as the [transpose](https://en.wikipedia.org/wiki/Transpose) comes in. Transposing switches the columns and rows of a matrix or table. Try running these two cells and comparing the outputs"
   ]
  },
  {
   "cell_type": "code",
   "execution_count": null,
   "metadata": {},
   "outputs": [],
   "source": [
    "data"
   ]
  },
  {
   "cell_type": "code",
   "execution_count": null,
   "metadata": {},
   "outputs": [],
   "source": [
    "data.T"
   ]
  },
  {
   "cell_type": "markdown",
   "metadata": {},
   "source": [
    "With this information, you should now be able to recreate the boxplot from above"
   ]
  },
  {
   "cell_type": "code",
   "execution_count": null,
   "metadata": {},
   "outputs": [],
   "source": [
    "# Attempt 2\n",
    "pass"
   ]
  },
  {
   "cell_type": "markdown",
   "metadata": {},
   "source": [
    "## Histograms"
   ]
  },
  {
   "cell_type": "markdown",
   "metadata": {},
   "source": [
    "What about histograms?\n",
    "\n",
    "<img src='fig/Oceania_Hist.png'>\n",
    "\n",
    "Let's give the [`hist`](https://pandas.pydata.org/pandas-docs/stable/reference/api/pandas.DataFrame.hist.html) command a shot and see! Don't forget to transpose your data!"
   ]
  },
  {
   "cell_type": "code",
   "execution_count": null,
   "metadata": {},
   "outputs": [],
   "source": [
    "# Attempt 1\n",
    "data = pd.read_csv('data/gapminder_gdp_oceania.csv', index_col = 'country')\n",
    "\n",
    "# FILL IN THIS LINE HERE\n",
    "pass"
   ]
  },
  {
   "cell_type": "markdown",
   "metadata": {},
   "source": [
    "Hmm just calling `hist` directly gives us two histograms side-by-side instead of overlaying them, making it hard to compare. What if we call `hist` several times, each time only grabbing one column?"
   ]
  },
  {
   "cell_type": "code",
   "execution_count": null,
   "metadata": {},
   "outputs": [],
   "source": [
    "# Attempt 2\n",
    "data.T['Australia'].hist()\n",
    "data.T['New Zealand'].hist()"
   ]
  },
  {
   "cell_type": "markdown",
   "metadata": {},
   "source": [
    "We're getting closer. However, it's pretty hard to see the first histogram below the second one. We can use the `alpha` optional argument in order to make them more transparent. Try it below!"
   ]
  },
  {
   "cell_type": "code",
   "execution_count": null,
   "metadata": {},
   "outputs": [],
   "source": [
    "# Fill in the blanks\n",
    "data.T['Australia'].hist(_____)\n",
    "data.T['New Zealand'].hist(_____)"
   ]
  },
  {
   "cell_type": "markdown",
   "metadata": {},
   "source": [
    "We can also change the number of columns using the `bins` optional argument. Change the number of columns to 5 for both histograms. Also, add an x-axis, y-axis, and a legend as an exercise"
   ]
  },
  {
   "cell_type": "code",
   "execution_count": null,
   "metadata": {},
   "outputs": [],
   "source": [
    "# Fill in the blanks\n",
    "data.T['Australia'].hist(_____)\n",
    "data.T['New Zealand'].hist(_____)"
   ]
  },
  {
   "cell_type": "markdown",
   "metadata": {},
   "source": [
    "Hopefully you're able to match the image above!"
   ]
  },
  {
   "cell_type": "markdown",
   "metadata": {},
   "source": [
    "## Pie Plots\n",
    "Last but not least, we'll cover pie plots. This is done with the [`pie`](https://pandas.pydata.org/pandas-docs/stable/reference/api/pandas.DataFrame.plot.pie.html#pandas.DataFrame.plot.pie) command. Combining everything you've learned along with the documentation, recreate this pie chart looking at the distribution of GDP per capita in Oceania _specifically in 2007_.\n",
    "\n",
    "<img src='fig/Oceania_Pie.png'>"
   ]
  },
  {
   "cell_type": "code",
   "execution_count": null,
   "metadata": {},
   "outputs": [],
   "source": [
    "# FILL IN THIS LINE HERE\n",
    "pass"
   ]
  },
  {
   "cell_type": "markdown",
   "metadata": {},
   "source": [
    "## Conclusion\n",
    "For a comprehensive tutorial on the different plots that you can do with Pandas, you can visit this [website](https://pandas.pydata.org/pandas-docs/stable/user_guide/visualization.html). You can also do all of these directly in `matplotlib`. Give it a shot!"
   ]
  }
 ],
 "metadata": {
  "kernelspec": {
   "display_name": "Python 3",
   "language": "python",
   "name": "python3"
  },
  "language_info": {
   "codemirror_mode": {
    "name": "ipython",
    "version": 3
   },
   "file_extension": ".py",
   "mimetype": "text/x-python",
   "name": "python",
   "nbconvert_exporter": "python",
   "pygments_lexer": "ipython3",
   "version": "3.7.4"
  }
 },
 "nbformat": 4,
 "nbformat_minor": 4
}
