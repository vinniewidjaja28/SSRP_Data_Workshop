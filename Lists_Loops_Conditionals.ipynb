{
 "cells": [
  {
   "cell_type": "code",
   "execution_count": 1,
   "metadata": {},
   "outputs": [
    {
     "name": "stdout",
     "output_type": "stream",
     "text": [
      "[0.275, 0.3, 0.5, 0.2, 0.1]\n"
     ]
    }
   ],
   "source": [
    "#List: colletion that stores a bunch of variables or numbers or other data types\n",
    "pressures = [0.275, 0.3, 0.5, 0.2, 0.1]\n",
    "print(pressures)"
   ]
  },
  {
   "cell_type": "code",
   "execution_count": 2,
   "metadata": {},
   "outputs": [
    {
     "data": {
      "text/plain": [
       "5"
      ]
     },
     "execution_count": 2,
     "metadata": {},
     "output_type": "execute_result"
    }
   ],
   "source": [
    "len(pressures)"
   ]
  },
  {
   "cell_type": "code",
   "execution_count": 16,
   "metadata": {},
   "outputs": [
    {
     "ename": "SyntaxError",
     "evalue": "invalid syntax (<ipython-input-16-d8130c46100a>, line 2)",
     "output_type": "error",
     "traceback": [
      "\u001b[0;36m  File \u001b[0;32m\"<ipython-input-16-d8130c46100a>\"\u001b[0;36m, line \u001b[0;32m2\u001b[0m\n\u001b[0;31m    print('first item in the pressures list'),pressure [0])\u001b[0m\n\u001b[0m                                                          ^\u001b[0m\n\u001b[0;31mSyntaxError\u001b[0m\u001b[0;31m:\u001b[0m invalid syntax\n"
     ]
    }
   ],
   "source": [
    "#Getting and setting items in a list\n",
    "print('first item in the pressures list'), pressure [0])\n",
    "print('last item in the pressures list'), pressure[4])"
   ]
  },
  {
   "cell_type": "code",
   "execution_count": null,
   "metadata": {},
   "outputs": [],
   "source": [
    "#(): where you are calling a function\n",
    "#[]: accessing an item in a list or a string\n",
    "print(\"here\")\n",
    "len()\n",
    "max()\n",
    "round"
   ]
  },
  {
   "cell_type": "code",
   "execution_count": 17,
   "metadata": {},
   "outputs": [
    {
     "name": "stdout",
     "output_type": "stream",
     "text": [
      "pressures before: [0.275, 0.3, 0.5, 0.2, 0.1]\n",
      "pressures after:  [0.275, 0.6, 0.5, 0.2, 0.1]\n"
     ]
    }
   ],
   "source": [
    "#setting items in a list\n",
    "pressures = [0.275, 0.3, 0.5, 0.2, 0.1]\n",
    "print('pressures before:', pressures)\n",
    "pressures[1] = 0.6 #setting an item\n",
    "print('pressures after: ', pressures)\n"
   ]
  },
  {
   "cell_type": "code",
   "execution_count": 18,
   "metadata": {},
   "outputs": [
    {
     "ename": "IndexError",
     "evalue": "list index out of range",
     "output_type": "error",
     "traceback": [
      "\u001b[0;31m---------------------------------------------------------------------------\u001b[0m",
      "\u001b[0;31mIndexError\u001b[0m                                Traceback (most recent call last)",
      "\u001b[0;32m<ipython-input-18-702dc9a8c0fe>\u001b[0m in \u001b[0;36m<module>\u001b[0;34m\u001b[0m\n\u001b[0;32m----> 1\u001b[0;31m \u001b[0mpressures\u001b[0m\u001b[0;34m[\u001b[0m\u001b[0;36m14\u001b[0m\u001b[0;34m]\u001b[0m\u001b[0;34m\u001b[0m\u001b[0;34m\u001b[0m\u001b[0m\n\u001b[0m",
      "\u001b[0;31mIndexError\u001b[0m: list index out of range"
     ]
    }
   ],
   "source": [
    "pressures[14]"
   ]
  },
  {
   "cell_type": "code",
   "execution_count": 20,
   "metadata": {},
   "outputs": [
    {
     "data": {
      "text/plain": [
       "[0.275, 0.6, 0.5, 0.2, 0.1]"
      ]
     },
     "execution_count": 20,
     "metadata": {},
     "output_type": "execute_result"
    }
   ],
   "source": [
    "#Make a list longer or shorter \n",
    "\n",
    "pressures"
   ]
  },
  {
   "cell_type": "code",
   "execution_count": 21,
   "metadata": {},
   "outputs": [
    {
     "name": "stdout",
     "output_type": "stream",
     "text": [
      "[0.275, 0.6, 0.5, 0.2, 0.1]\n",
      "[0.275, 0.6, 0.5, 0.2, 0.1, 0.4, 0.5]\n"
     ]
    }
   ],
   "source": [
    "print(pressures)\n",
    "pressures.append(0.4)\n",
    "pressures.append(0.5)\n",
    "print(pressures)\n"
   ]
  },
  {
   "cell_type": "code",
   "execution_count": 23,
   "metadata": {},
   "outputs": [],
   "source": [
    "#In the above examples, index and append are special types of functions:\n",
    "#Methods - function that's associated with a particular object\n",
    "\n",
    "#object_name.method_name (either append or index)\n",
    "my_special_list = [2, 6, 3, 4]"
   ]
  },
  {
   "cell_type": "code",
   "execution_count": 24,
   "metadata": {},
   "outputs": [
    {
     "name": "stdout",
     "output_type": "stream",
     "text": [
      "[2, 6, 3, 4]\n",
      "[2, 3, 4]\n"
     ]
    }
   ],
   "source": [
    "#Making a list shorter\n",
    "print(my_special_list)\n",
    "del my_special_list[1]\n",
    "print(my_special_list)"
   ]
  },
  {
   "cell_type": "code",
   "execution_count": 25,
   "metadata": {},
   "outputs": [
    {
     "name": "stdout",
     "output_type": "stream",
     "text": [
      "[]\n"
     ]
    }
   ],
   "source": [
    "a =[] #Empty list\n",
    "print(a)"
   ]
  },
  {
   "cell_type": "code",
   "execution_count": 26,
   "metadata": {},
   "outputs": [
    {
     "data": {
      "text/plain": [
       "0"
      ]
     },
     "execution_count": 26,
     "metadata": {},
     "output_type": "execute_result"
    }
   ],
   "source": [
    "len(a)"
   ]
  },
  {
   "cell_type": "code",
   "execution_count": 27,
   "metadata": {},
   "outputs": [],
   "source": [
    "my_list = [2, 'hi', 5.1024, 3, 'ramya']"
   ]
  },
  {
   "cell_type": "code",
   "execution_count": 28,
   "metadata": {},
   "outputs": [
    {
     "data": {
      "text/plain": [
       "'hi'"
      ]
     },
     "execution_count": 28,
     "metadata": {},
     "output_type": "execute_result"
    }
   ],
   "source": [
    "my_list[1]"
   ]
  },
  {
   "cell_type": "code",
   "execution_count": 29,
   "metadata": {},
   "outputs": [
    {
     "data": {
      "text/plain": [
       "5.1024"
      ]
     },
     "execution_count": 29,
     "metadata": {},
     "output_type": "execute_result"
    }
   ],
   "source": [
    "my_list[2]"
   ]
  },
  {
   "cell_type": "code",
   "execution_count": 30,
   "metadata": {},
   "outputs": [
    {
     "data": {
      "text/plain": [
       "'a'"
      ]
     },
     "execution_count": 30,
     "metadata": {},
     "output_type": "execute_result"
    }
   ],
   "source": [
    "#Strings and lists are actually really similar \n",
    "\n",
    "element = 'carbon'\n",
    "element[1] #strings and lists are accessed in the same way"
   ]
  },
  {
   "cell_type": "code",
   "execution_count": 31,
   "metadata": {},
   "outputs": [
    {
     "ename": "TypeError",
     "evalue": "'str' object does not support item assignment",
     "output_type": "error",
     "traceback": [
      "\u001b[0;31m---------------------------------------------------------------------------\u001b[0m",
      "\u001b[0;31mTypeError\u001b[0m                                 Traceback (most recent call last)",
      "\u001b[0;32m<ipython-input-31-6dc46761ce07>\u001b[0m in \u001b[0;36m<module>\u001b[0;34m\u001b[0m\n\u001b[0;32m----> 1\u001b[0;31m \u001b[0melement\u001b[0m\u001b[0;34m[\u001b[0m\u001b[0;36m0\u001b[0m\u001b[0;34m]\u001b[0m \u001b[0;34m=\u001b[0m \u001b[0;34m'C'\u001b[0m\u001b[0;34m\u001b[0m\u001b[0;34m\u001b[0m\u001b[0m\n\u001b[0m",
      "\u001b[0;31mTypeError\u001b[0m: 'str' object does not support item assignment"
     ]
    }
   ],
   "source": [
    "element[0] = 'C' #strings are lists that are immutable!\n"
   ]
  },
  {
   "cell_type": "code",
   "execution_count": 32,
   "metadata": {},
   "outputs": [],
   "source": [
    "capital_element = 'carbon'"
   ]
  },
  {
   "cell_type": "code",
   "execution_count": 34,
   "metadata": {
    "scrolled": true
   },
   "outputs": [
    {
     "name": "stdout",
     "output_type": "stream",
     "text": [
      "first time: [1, 3, 5]\n",
      "second time [3, 5]\n"
     ]
    }
   ],
   "source": [
    "#Example problems\n",
    "values = []\n",
    "values.append(1)\n",
    "values.append(3)\n",
    "values.append(5)\n",
    "print('first time:', values)\n",
    "\n",
    "values = values [1:3]\n",
    "print('second time', values)"
   ]
  },
  {
   "cell_type": "markdown",
   "metadata": {},
   "source": [
    "#For loops"
   ]
  },
  {
   "cell_type": "code",
   "execution_count": 37,
   "metadata": {},
   "outputs": [
    {
     "name": "stdout",
     "output_type": "stream",
     "text": [
      "2\n",
      "3\n",
      "5\n",
      "7\n"
     ]
    }
   ],
   "source": [
    "#Loops: commands repeatedly, once for every value in a collection \n",
    "    \n",
    "#For loops: execute for every value in a list, string, collections \n",
    "\n",
    "for number in [2, 3, 5, 7]:\n",
    "    print(number)\n"
   ]
  },
  {
   "cell_type": "code",
   "execution_count": 38,
   "metadata": {},
   "outputs": [
    {
     "name": "stdout",
     "output_type": "stream",
     "text": [
      "2\n",
      "3\n"
     ]
    }
   ],
   "source": [
    "print(2)\n",
    "print(3)"
   ]
  },
  {
   "cell_type": "code",
   "execution_count": null,
   "metadata": {},
   "outputs": [],
   "source": [
    "#Collection: the thing you're iterating through. e.g. [2, 3, 5, 7]\n",
    "#Loop variable: temporary variable that takes on values of the collection one by one\n",
    "#Body: lines of code that run each time the loop is executed e.g. print(unicorn)"
   ]
  },
  {
   "cell_type": "code",
   "execution_count": 39,
   "metadata": {},
   "outputs": [
    {
     "name": "stdout",
     "output_type": "stream",
     "text": [
      "2\n",
      "3\n",
      "5\n",
      "7\n"
     ]
    }
   ],
   "source": [
    "for number in [2, 3, 5, 7]:\n",
    "        print(number)"
   ]
  },
  {
   "cell_type": "code",
   "execution_count": null,
   "metadata": {},
   "outputs": [],
   "source": [
    "#syntax:\n",
    "#remember the colon!\n",
    "#indent the body of the loop"
   ]
  },
  {
   "cell_type": "code",
   "execution_count": 42,
   "metadata": {},
   "outputs": [
    {
     "name": "stdout",
     "output_type": "stream",
     "text": [
      "2 4 8\n",
      "3 9 27\n",
      "5 25 125\n",
      "7 49 343\n",
      "11 121 1331\n"
     ]
    }
   ],
   "source": [
    "primes = [2, 3, 5, 7, 11]\n",
    "for p in primes:\n",
    "    squared = p **2\n",
    "    cubed = p**3\n",
    "    print(p, squared, cubed)"
   ]
  },
  {
   "cell_type": "code",
   "execution_count": 45,
   "metadata": {},
   "outputs": [
    {
     "name": "stdout",
     "output_type": "stream",
     "text": [
      "0\n",
      "1\n",
      "2\n",
      "3\n",
      "4\n",
      "5\n"
     ]
    }
   ],
   "source": [
    "#python lets you use the range function: range()\n",
    "for number in range(6): \n",
    "    print(number)"
   ]
  },
  {
   "cell_type": "code",
   "execution_count": 53,
   "metadata": {},
   "outputs": [
    {
     "name": "stdout",
     "output_type": "stream",
     "text": [
      "6\n"
     ]
    }
   ],
   "source": [
    "#Accumulator pattern: common pattern in programs:\n",
    "#First initialize something to a starting value\n",
    "#update it every time you go through a loop\n",
    "\n",
    "#sums the values from 1 to 3\n",
    "current_sum = 0 \n",
    "for number in [0, 1, 2]:\n",
    "    current_sum = current_sum + (number + 1)\n",
    "print(current_sum)"
   ]
  },
  {
   "cell_type": "code",
   "execution_count": null,
   "metadata": {},
   "outputs": [],
   "source": [
    "#first iteration:\n",
    "#current_sum = 0; number = 0; current sum = 1 \n",
    "\n",
    "#second iteration:\n",
    "#current_sum =1; number =1; current sum = 3\n",
    "\n",
    "#third iteration:\n",
    "#current_sum = 3; number = 2; 3+2+1--> current_sum = 6"
   ]
  },
  {
   "cell_type": "code",
   "execution_count": 61,
   "metadata": {},
   "outputs": [
    {
     "name": "stdout",
     "output_type": "stream",
     "text": [
      "char: t\n",
      "char: i\n",
      "char: n\n",
      "3\n"
     ]
    }
   ],
   "source": [
    "#practice\n",
    "total = 0\n",
    "for char in \"tin\":\n",
    "    print(\"char:\", char)\n",
    "    total = total + 1\n",
    "print(total)"
   ]
  },
  {
   "cell_type": "code",
   "execution_count": null,
   "metadata": {},
   "outputs": [],
   "source": [
    "#First time through the loop:\n",
    "#total = 0 before the body\n",
    "#total =1 after the body \n",
    "\n",
    "#Second time through the loop:\n",
    "#total = 1 before the body\n",
    "#total = 2 after the body \n",
    "\n",
    "#Third time through the loop:\n",
    "#total = 2 before the body\n",
    "#total = 3 after the body \n",
    "\n"
   ]
  },
  {
   "cell_type": "code",
   "execution_count": null,
   "metadata": {
    "collapsed": true
   },
   "outputs": [],
   "source": [
    "#Conditionals"
   ]
  },
  {
   "cell_type": "code",
   "execution_count": 62,
   "metadata": {},
   "outputs": [
    {
     "name": "stdout",
     "output_type": "stream",
     "text": [
      "5 is large\n"
     ]
    }
   ],
   "source": [
    "#Conditional: way to tell your program to do different things depending on a test\n",
    "\n",
    "#If statement: includes a test, followed by colon, body \n",
    "\n",
    "mass = 5\n",
    "if mass > 3: \n",
    "    print(mass, 'is large')"
   ]
  },
  {
   "cell_type": "code",
   "execution_count": 64,
   "metadata": {},
   "outputs": [
    {
     "name": "stdout",
     "output_type": "stream",
     "text": [
      "2 is large\n"
     ]
    }
   ],
   "source": [
    "mass == 2\n",
    "if mass == 2: \n",
    "    print(mass, 'is large')\n",
    "#nothing happens since mass is not greater than 3"
   ]
  },
  {
   "cell_type": "code",
   "execution_count": null,
   "metadata": {},
   "outputs": [],
   "source": [
    "# > greater than\n",
    "# < less than\n",
    "# == equals to\n",
    "# >= greater than equal to\n",
    "# != not equal to "
   ]
  },
  {
   "cell_type": "code",
   "execution_count": 65,
   "metadata": {},
   "outputs": [
    {
     "name": "stdout",
     "output_type": "stream",
     "text": [
      "yay, I found a small mass\n",
      "2 is small\n"
     ]
    }
   ],
   "source": [
    "# else statement: executed after an if, alternative when the if branch isn't taken \n",
    "\n",
    "mass = 2\n",
    "if mass > 3: \n",
    "    print(mass, 'is large')\n",
    "else:\n",
    "    print('yay, I found a small mass')\n",
    "    print(mass, 'is small')"
   ]
  },
  {
   "cell_type": "code",
   "execution_count": 69,
   "metadata": {},
   "outputs": [
    {
     "name": "stdout",
     "output_type": "stream",
     "text": [
      "4 is medium\n"
     ]
    }
   ],
   "source": [
    "#elif statement: Specify additonal tests\n",
    "mass = 4\n",
    "if mass > 5: \n",
    "    print(mass, 'is large')\n",
    "elif mass > 3: \n",
    "    print(mass, 'is medium')\n",
    "else:\n",
    "    print('Yay, I found a small mass')\n",
    "    print(mass, 'is small')"
   ]
  },
  {
   "cell_type": "code",
   "execution_count": 71,
   "metadata": {},
   "outputs": [
    {
     "name": "stdout",
     "output_type": "stream",
     "text": [
      "5 is large, pay attention to this data point\n",
      "2 is small, ignore this\n",
      "3 is large, pay attention to this data point\n",
      "6 is large, pay attention to this data point\n",
      "3 is large, pay attention to this data point\n"
     ]
    }
   ],
   "source": [
    "masses = [5, 2, 3, 6, 3]\n",
    "for m in masses: \n",
    "    if m > 2.5:\n",
    "        print(m, \"is large, pay attention to this data point\")\n",
    "        #will only run if it matches the test ex. 2 failed the test so not show up\n",
    "        \n",
    "    else: \n",
    "        print(m, 'is small, ignore this')"
   ]
  },
  {
   "cell_type": "code",
   "execution_count": 73,
   "metadata": {},
   "outputs": [
    {
     "name": "stdout",
     "output_type": "stream",
     "text": [
      "grade is C\n"
     ]
    }
   ],
   "source": [
    "grade = 85 \n",
    "if grade >= 70:\n",
    "    print('grade is C')\n",
    "elif grade >= 80:\n",
    "    print('grade is B')\n",
    "elif grade >= 90:\n",
    "    print('grade is A')\n",
    "    \n",
    "    "
   ]
  },
  {
   "cell_type": "code",
   "execution_count": 74,
   "metadata": {},
   "outputs": [
    {
     "name": "stdout",
     "output_type": "stream",
     "text": [
      "grade is B\n"
     ]
    }
   ],
   "source": [
    "grade = 85 \n",
    "if grade >= 90:\n",
    "    print('grade is A')\n",
    "elif grade >= 80:\n",
    "    print('grade is B')\n",
    "elif grade >= 70:\n",
    "    print('grade is C')\n",
    "else: \n",
    "    print('Sorry you failed!!!')"
   ]
  },
  {
   "cell_type": "code",
   "execution_count": 75,
   "metadata": {},
   "outputs": [
    {
     "name": "stdout",
     "output_type": "stream",
     "text": [
      "[0, 1, 1, 1, 0, 1]\n"
     ]
    }
   ],
   "source": [
    "#practice: use a loop to change a value in a list\n",
    "original = [-2.5, 0.2, 0.4, 0.0, -1.3, 0.4]\n",
    "result = []\n",
    "for value in original:\n",
    "    if value < 0:\n",
    "        result.append(0)\n",
    "    else: \n",
    "        result.append(1)\n",
    "print(result)\n",
    "\n",
    "#desired output: [0, 1, 1, 1, 0, 1]"
   ]
  },
  {
   "cell_type": "code",
   "execution_count": null,
   "metadata": {},
   "outputs": [],
   "source": []
  }
 ],
 "metadata": {
  "kernelspec": {
   "display_name": "Python 3",
   "language": "python",
   "name": "python3"
  },
  "language_info": {
   "codemirror_mode": {
    "name": "ipython",
    "version": 3
   },
   "file_extension": ".py",
   "mimetype": "text/x-python",
   "name": "python",
   "nbconvert_exporter": "python",
   "pygments_lexer": "ipython3",
   "version": "3.7.6"
  }
 },
 "nbformat": 4,
 "nbformat_minor": 4
}
